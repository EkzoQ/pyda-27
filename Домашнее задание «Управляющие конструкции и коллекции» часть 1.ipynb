{
 "cells": [
  {
   "cell_type": "markdown",
   "metadata": {},
   "source": [
    "## Задание 1"
   ]
  },
  {
   "cell_type": "code",
   "execution_count": 39,
   "metadata": {},
   "outputs": [
    {
     "name": "stdout",
     "output_type": "stream",
     "text": [
      "Результат: es\n"
     ]
    }
   ],
   "source": [
    "word = 'test'\n",
    "\n",
    "if (len(word) % 2) != 0:\n",
    "    print(f'Результат: {word[len(word) // 2]}')\n",
    "else:\n",
    "    print(f'Результат: {word[(len(word) // 2 - 1):(len(word) // 2 + 1)]}')"
   ]
  },
  {
   "cell_type": "markdown",
   "metadata": {},
   "source": [
    "## Задание 2"
   ]
  },
  {
   "cell_type": "code",
   "execution_count": 37,
   "metadata": {},
   "outputs": [
    {
     "name": "stdout",
     "output_type": "stream",
     "text": [
      "Введите число: 1\n",
      "Введите число: 2\n",
      "Введите число: 6\n",
      "Введите число: 0\n",
      "Результат: 9\n"
     ]
    }
   ],
   "source": [
    "sum_ = 0\n",
    "input_ = int(input('Введите число: '))\n",
    "\n",
    "while input_ != 0:\n",
    "    sum_ += input_\n",
    "    input_ = int(input('Введите число: '))\n",
    "    \n",
    "print(f'Результат: {sum_}')"
   ]
  },
  {
   "cell_type": "markdown",
   "metadata": {},
   "source": [
    "## Задание 3"
   ]
  },
  {
   "cell_type": "code",
   "execution_count": 14,
   "metadata": {},
   "outputs": [],
   "source": [
    "boys = [\"Peter\", \"Alex\", \"John\", \"Arthur\", \"Richard\"]\n",
    "girls = [\"Kate\", \"Liza\", \"Kira\", \"Emma\", \"Trisha\"]\n",
    "\n",
    "boys.sort()\n",
    "girls.sort()"
   ]
  },
  {
   "cell_type": "code",
   "execution_count": 19,
   "metadata": {},
   "outputs": [
    {
     "name": "stdout",
     "output_type": "stream",
     "text": [
      "Идеальные пары:\n",
      "Alex и Emma\n",
      "Arthur и Kate\n",
      "John и Kira\n",
      "Peter и Liza\n",
      "Richard и Trisha\n"
     ]
    }
   ],
   "source": [
    "if len(boys) == len(girls):\n",
    "    print('Идеальные пары:')\n",
    "    for boy, girl in zip(boys, girls):\n",
    "        print(f'{boy} и {girl}')\n",
    "else:\n",
    "    print('Внимание, кто-то может остаться без пары!')"
   ]
  },
  {
   "cell_type": "markdown",
   "metadata": {},
   "source": [
    "## Задание 4"
   ]
  },
  {
   "cell_type": "code",
   "execution_count": 20,
   "metadata": {},
   "outputs": [],
   "source": [
    "countries_temperature = [\n",
    "[\"Thailand\", [75.2, 77, 78.8, 73.4, 68, 75.2, 77]],\n",
    "[\"Germany\", [57.2, 55.4, 59, 59, 53.6]],\n",
    "[\"Russia\", [35.6, 37.4, 39.2, 41, 42.8, 39.2, 35.6]],\n",
    "[\"Poland\", [50, 50, 53.6, 57.2, 55.4, 55.4]]\n",
    "]"
   ]
  },
  {
   "cell_type": "code",
   "execution_count": 31,
   "metadata": {},
   "outputs": [
    {
     "name": "stdout",
     "output_type": "stream",
     "text": [
      "Thailand - 23.9\n",
      "Germany - 13.8\n",
      "Russia - 3.7\n",
      "Poland - 12.0\n"
     ]
    }
   ],
   "source": [
    "for i in countries_temperature:\n",
    "    celsius_mean = sum([(fahr - 32) * 5 / 9 for fahr in i[1]]) / len(i[1]) \n",
    "    print(f'{i[0]} - {round(celsius_mean, 1)}')"
   ]
  },
  {
   "cell_type": "markdown",
   "metadata": {},
   "source": [
    "## Задание 5"
   ]
  },
  {
   "cell_type": "code",
   "execution_count": 32,
   "metadata": {},
   "outputs": [],
   "source": [
    "stream = [\n",
    "'2018-01-01,user1,3',\n",
    "'2018-01-07,user1,4',\n",
    "'2018-03-29,user1,1',\n",
    "'2018-04-04,user1,13',\n",
    "'2018-01-05,user2,7',\n",
    "'2018-06-14,user3,4',\n",
    "'2018-07-02,user3,10',\n",
    "'2018-03-21,user4,19',\n",
    "'2018-03-22,user4,4',\n",
    "'2018-04-22,user4,8',\n",
    "'2018-05-03,user4,9',\n",
    "'2018-05-11,user4,11'\n",
    "]"
   ]
  },
  {
   "cell_type": "code",
   "execution_count": 57,
   "metadata": {},
   "outputs": [
    {
     "name": "stdout",
     "output_type": "stream",
     "text": [
      "Среднее количество просмотров на уникального пользователя: 23.25\n"
     ]
    }
   ],
   "source": [
    "views = 0\n",
    "users = []\n",
    "\n",
    "for i in stream:\n",
    "    views += int(i.split(',')[2])\n",
    "    \n",
    "    if i.split(',')[1] not in users: \n",
    "        users.append(i.split(',')[1])\n",
    "\n",
    "print(f'Среднее количество просмотров на уникального пользователя: {views / len(users)}')   "
   ]
  },
  {
   "cell_type": "markdown",
   "metadata": {},
   "source": [
    "## Задание 6"
   ]
  },
  {
   "cell_type": "code",
   "execution_count": 1,
   "metadata": {},
   "outputs": [
    {
     "name": "stdout",
     "output_type": "stream",
     "text": [
      "Введите числа через пробел: 0 0 1 1 2 3 7 2\n"
     ]
    }
   ],
   "source": [
    "input_ = input(\"Введите числа через пробел: \")"
   ]
  },
  {
   "cell_type": "code",
   "execution_count": 36,
   "metadata": {},
   "outputs": [
    {
     "name": "stdout",
     "output_type": "stream",
     "text": [
      "Результат: {0, 1, 2}\n"
     ]
    }
   ],
   "source": [
    "list_ = []\n",
    "\n",
    "for i in input_.split(' '):\n",
    "    if input_.count(i) > 1:\n",
    "        list_.append(int(i))\n",
    "\n",
    "list_.sort()\n",
    "print(f'Результат: {set(list_)}')"
   ]
  },
  {
   "cell_type": "code",
   "execution_count": null,
   "metadata": {},
   "outputs": [],
   "source": []
  }
 ],
 "metadata": {
  "kernelspec": {
   "display_name": "Python 3",
   "language": "python",
   "name": "python3"
  },
  "language_info": {
   "codemirror_mode": {
    "name": "ipython",
    "version": 3
   },
   "file_extension": ".py",
   "mimetype": "text/x-python",
   "name": "python",
   "nbconvert_exporter": "python",
   "pygments_lexer": "ipython3",
   "version": "3.8.5"
  }
 },
 "nbformat": 4,
 "nbformat_minor": 4
}
