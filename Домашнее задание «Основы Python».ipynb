{
 "cells": [
  {
   "cell_type": "markdown",
   "id": "9f8dcfe4",
   "metadata": {},
   "source": [
    "## Задание 1"
   ]
  },
  {
   "cell_type": "code",
   "execution_count": 1,
   "id": "f32fc505",
   "metadata": {},
   "outputs": [],
   "source": [
    "phrase_1 = 'Насколько проще было бы писать программы, если бы не заказчики'\n",
    "phrase_2 = 'Насколько проще было бы писать программы, если бы не заказчики'"
   ]
  },
  {
   "cell_type": "code",
   "execution_count": 2,
   "id": "8c1888da",
   "metadata": {},
   "outputs": [
    {
     "name": "stdout",
     "output_type": "stream",
     "text": [
      "Фразы равной длины\n"
     ]
    }
   ],
   "source": [
    "if len(phrase_1) > len(phrase_2):\n",
    "    print('Фраза 1 длиннее фразы 2')\n",
    "elif len(phrase_1) < len(phrase_2):\n",
    "    print('Фраза 2 длиннее фразы 1')\n",
    "else:\n",
    "    print('Фразы равной длины')"
   ]
  },
  {
   "cell_type": "markdown",
   "id": "669794fe",
   "metadata": {},
   "source": [
    "## Задание 2"
   ]
  },
  {
   "cell_type": "code",
   "execution_count": 3,
   "id": "070f1279",
   "metadata": {},
   "outputs": [],
   "source": [
    "year = 2000"
   ]
  },
  {
   "cell_type": "code",
   "execution_count": 4,
   "id": "9a3a01ff",
   "metadata": {},
   "outputs": [
    {
     "name": "stdout",
     "output_type": "stream",
     "text": [
      "Високосный год\n"
     ]
    }
   ],
   "source": [
    "if ((year % 4 == 0) and (year % 4 != 0)) or (year % 400 == 0):\n",
    "    print('Високосный год')\n",
    "else:\n",
    "    print('Обычный год')"
   ]
  },
  {
   "cell_type": "markdown",
   "id": "2ed75f5e",
   "metadata": {},
   "source": [
    "## Задание 3"
   ]
  },
  {
   "cell_type": "code",
   "execution_count": 5,
   "id": "2e36a79d",
   "metadata": {},
   "outputs": [],
   "source": [
    "month = 'Январь'\n",
    "day = 1"
   ]
  },
  {
   "cell_type": "code",
   "execution_count": 6,
   "id": "d0b317fb",
   "metadata": {},
   "outputs": [
    {
     "name": "stdout",
     "output_type": "stream",
     "text": [
      "Ваш знак зодиака: Козерог\n"
     ]
    }
   ],
   "source": [
    "if (day >= 21 and day <= 31 and month == \"Март\") or (day >= 1 and day <= 20 and month == \"Апрель\"):\n",
    "    print(\"Ваш знак зодиака: Овен\")\n",
    "elif (day >= 21 and day <= 30 and month == \"Апрель\") or (day >= 1 and day <= 20 and month == \"Май\"):\n",
    "    print(\"Ваш знак зодиака: Телец\")\n",
    "elif (day >= 21 and day <= 31 and month == \"Май\") or (day >= 1 and day <= 21 and month == \"Июнь\"):\n",
    "    print(\"Ваш знак зодиака: Близнецы\")\n",
    "elif (day >= 22 and day <= 30 and month == \"Июнь\") or (day >= 1 and day <= 22 and month == \"Июль\"):\n",
    "    print(\"Ваш знак зодиака: Рак\")\n",
    "elif (day >= 23 and day <= 31 and month == \"Июль\") or (day >= 1 and day <= 23 and month == \"Август\"):\n",
    "    print(\"Ваш знак зодиака: Лев\")\n",
    "elif (day >= 24 and day <= 30 and month == \"Август\") or (day >= 1 and day <= 23 and month == \"Сентябрь\"):\n",
    "    print(\"Ваш знак зодиака: Дева\")\n",
    "elif (day >= 24 and day <= 31 and month == \"Сентябрь\") or (day >= 1 and day <= 23 and month == \"Октябрь\"):\n",
    "    print(\"Ваш знак зодиака: Весы\")\n",
    "elif (day >= 24 and day <= 30 and month == \"Октябрь\") or (day >= 1 and day <= 22 and month == \"Ноябрь\"):\n",
    "    print(\"Ваш знак зодиака: Скорпион\")\n",
    "elif (day >= 23 and day <= 31 and month == \"Ноябрь\") or (day >= 1 and day <= 21 and month == \"Декабрь\"):\n",
    "    print(\"Ваш знак зодиака: Стрелец\")\n",
    "elif (day >= 22 and day <= 30 and month == \"Декабрь\") or (day >= 1 and day <= 20 and month == \"Январь\"):\n",
    "    print(\"Ваш знак зодиака: Козерог\")\n",
    "elif (day >= 21 and day <= 31 and month == \"Январь\") or (day >= 1 and day <= 20 and month == \"Февраль\"):\n",
    "    print(\"Ваш знак зодиака: Водолей\")\n",
    "elif (day >= 21 and day <= 30 and month == \"Февраль\") or (day >= 1 and day <= 20 and month == \"Март\"):\n",
    "    print(\"Ваш знак зодиака: Рыбы\")\n",
    "else:\n",
    "    print('Данные введены некорректно')"
   ]
  },
  {
   "cell_type": "markdown",
   "id": "4c0fe0d2",
   "metadata": {},
   "source": [
    "## Задание 4"
   ]
  },
  {
   "cell_type": "code",
   "execution_count": 7,
   "id": "7464d536",
   "metadata": {},
   "outputs": [],
   "source": [
    "width = 15\n",
    "length = 50\n",
    "height = 15"
   ]
  },
  {
   "cell_type": "code",
   "execution_count": 8,
   "id": "cbe726e7",
   "metadata": {},
   "outputs": [
    {
     "name": "stdout",
     "output_type": "stream",
     "text": [
      "Коробка номер 3\n"
     ]
    }
   ],
   "source": [
    "if (width < 15) and (length < 15) and (height < 15):\n",
    "    print(\"Коробка номер 1\")\n",
    "elif length > 200:\n",
    "    print(\"Упаковка для лыж\")\n",
    "elif (15 < width < 50) or (15 < length < 50) or (15 < height < 50):\n",
    "    print(\"Коробка номер 2\")\n",
    "else:\n",
    "    print(\"Коробка номер 3\")"
   ]
  },
  {
   "cell_type": "markdown",
   "id": "9227d62c",
   "metadata": {},
   "source": [
    "## Задание 5"
   ]
  },
  {
   "cell_type": "code",
   "execution_count": 9,
   "id": "4b7899fa",
   "metadata": {},
   "outputs": [],
   "source": [
    "number = 111111"
   ]
  },
  {
   "cell_type": "code",
   "execution_count": 10,
   "id": "81f58ed1",
   "metadata": {},
   "outputs": [
    {
     "name": "stdout",
     "output_type": "stream",
     "text": [
      "Счастливый билет\n"
     ]
    }
   ],
   "source": [
    "sum1 = 0\n",
    "sum2 = 0\n",
    "\n",
    "for i in str(number // 1000):\n",
    "    sum1 += int(i)\n",
    "    \n",
    "for j in str(number % 1000):\n",
    "    sum2 += int(j)\n",
    "    \n",
    "if sum1 == sum2:\n",
    "    print('Счастливый билет')\n",
    "else:\n",
    "    print('Несчастливый билет')"
   ]
  },
  {
   "cell_type": "markdown",
   "id": "fbf73557",
   "metadata": {},
   "source": [
    "## Задание 6"
   ]
  },
  {
   "cell_type": "code",
   "execution_count": 11,
   "id": "4c6b895e",
   "metadata": {},
   "outputs": [],
   "source": [
    "import math as m"
   ]
  },
  {
   "cell_type": "code",
   "execution_count": 12,
   "id": "d9dfaeeb",
   "metadata": {},
   "outputs": [
    {
     "name": "stdout",
     "output_type": "stream",
     "text": [
      "Введите тип фигуры: круг\n",
      "Введите радиус круга: 3\n",
      "Площадь круга: 28.274333882308138\n"
     ]
    }
   ],
   "source": [
    "type_ = input('Введите тип фигуры: ')\n",
    "\n",
    "if type_ == 'круг':\n",
    "    radius = float(input('Введите радиус круга: '))\n",
    "    area = m.pi * (radius ** 2)\n",
    "    print(f'Площадь круга: {area}')\n",
    "elif type_ == 'треугольник':\n",
    "    sides = input('Введите длины 3х сторон через запятую: ').split(',')\n",
    "    perimeter = (float(sides[0]) + float(sides[1]) + float(sides[2])) / 2\n",
    "    area = m.sqrt((perimeter * (perimeter - float(sides[0])) * (perimeter - float(sides[1])) * (perimeter - float(sides[2]))))\n",
    "    print(f'Площадь треугольника: {area}')\n",
    "elif type_ == 'прямоугольник':\n",
    "    sides = input('Введите длины 2х сторон через запятую: ').split(',')\n",
    "    area = float(sides[0]) * float(sides[1])\n",
    "    print(f'Площадь прямоугольника: {area}')"
   ]
  },
  {
   "cell_type": "code",
   "execution_count": null,
   "id": "73ae5400",
   "metadata": {},
   "outputs": [],
   "source": []
  }
 ],
 "metadata": {
  "kernelspec": {
   "display_name": "Python 3",
   "language": "python",
   "name": "python3"
  },
  "language_info": {
   "codemirror_mode": {
    "name": "ipython",
    "version": 3
   },
   "file_extension": ".py",
   "mimetype": "text/x-python",
   "name": "python",
   "nbconvert_exporter": "python",
   "pygments_lexer": "ipython3",
   "version": "3.8.8"
  }
 },
 "nbformat": 4,
 "nbformat_minor": 5
}
