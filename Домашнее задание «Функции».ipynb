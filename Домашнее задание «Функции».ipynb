{
 "cells": [
  {
   "cell_type": "code",
   "execution_count": 20,
   "metadata": {},
   "outputs": [],
   "source": [
    "documents = [\n",
    " {'type': 'passport', 'number': '2207 876234', 'name': 'Василий Гупкин'},\n",
    " {'type': 'invoice', 'number': '11-2', 'name': 'Геннадий Покемонов'},\n",
    " {'type': 'insurance', 'number': '10006', 'name': 'Аристарх Павлов'}\n",
    "]\n",
    "\n",
    "directories = {\n",
    " '1': ['2207 876234', '11-2'],\n",
    " '2': ['10006'],\n",
    " '3': []\n",
    "}"
   ]
  },
  {
   "cell_type": "markdown",
   "metadata": {},
   "source": [
    "## Задание 1"
   ]
  },
  {
   "cell_type": "code",
   "execution_count": 21,
   "metadata": {},
   "outputs": [],
   "source": [
    "def owner():\n",
    "    document_number = input('Введите номер документа: ')\n",
    "    \n",
    "    owner_name = ''\n",
    "    for document in documents:\n",
    "        if document_number == document['number']:\n",
    "            owner_name = 'Владелец документа: ' + document['name'] \n",
    "    \n",
    "    if owner_name == '':\n",
    "        owner_name = 'Документ не найден в базе'\n",
    "        \n",
    "    return owner_name"
   ]
  },
  {
   "cell_type": "code",
   "execution_count": 22,
   "metadata": {},
   "outputs": [
    {
     "name": "stdout",
     "output_type": "stream",
     "text": [
      "Введите номер документа: 11-2\n"
     ]
    },
    {
     "data": {
      "text/plain": [
       "'Владелец документа: Геннадий Покемонов'"
      ]
     },
     "execution_count": 22,
     "metadata": {},
     "output_type": "execute_result"
    }
   ],
   "source": [
    "owner()"
   ]
  },
  {
   "cell_type": "markdown",
   "metadata": {},
   "source": [
    "## Задание 2"
   ]
  },
  {
   "cell_type": "code",
   "execution_count": 23,
   "metadata": {},
   "outputs": [],
   "source": [
    "def shelf():\n",
    "    document_number = input('Введите номер документа: ')\n",
    "    \n",
    "    shelf_number = ''\n",
    "    for key, value in directories.items():\n",
    "        if document_number in value:\n",
    "            shelf_number = 'Документ хранится на полке: ' + key\n",
    "    \n",
    "    if shelf_number == '':\n",
    "        shelf_number = 'Документ не найден в базе'\n",
    "        \n",
    "    return shelf_number"
   ]
  },
  {
   "cell_type": "code",
   "execution_count": 24,
   "metadata": {},
   "outputs": [
    {
     "name": "stdout",
     "output_type": "stream",
     "text": [
      "Введите номер документа: 11-2\n"
     ]
    },
    {
     "data": {
      "text/plain": [
       "'Документ хранится на полке: 1'"
      ]
     },
     "execution_count": 24,
     "metadata": {},
     "output_type": "execute_result"
    }
   ],
   "source": [
    "shelf()"
   ]
  },
  {
   "cell_type": "markdown",
   "metadata": {},
   "source": [
    "## Задание 3"
   ]
  },
  {
   "cell_type": "code",
   "execution_count": 25,
   "metadata": {},
   "outputs": [],
   "source": [
    "def info():\n",
    "    for document in documents:\n",
    "        for key, value in directories.items():\n",
    "            if document['number'] in value:\n",
    "                print('№: ' + document['number'] + ', тип: ' + document['type'] + ', владелец: ' + document['name'] + ', полка хранения: ' + key)"
   ]
  },
  {
   "cell_type": "code",
   "execution_count": 26,
   "metadata": {},
   "outputs": [
    {
     "name": "stdout",
     "output_type": "stream",
     "text": [
      "№: 2207 876234, тип: passport, владелец: Василий Гупкин, полка хранения: 1\n",
      "№: 11-2, тип: invoice, владелец: Геннадий Покемонов, полка хранения: 1\n",
      "№: 10006, тип: insurance, владелец: Аристарх Павлов, полка хранения: 2\n"
     ]
    }
   ],
   "source": [
    "info()"
   ]
  },
  {
   "cell_type": "markdown",
   "metadata": {},
   "source": [
    "## Задание 4"
   ]
  },
  {
   "cell_type": "code",
   "execution_count": 27,
   "metadata": {},
   "outputs": [],
   "source": [
    "def add_shelf():\n",
    "    shelf_number = input('Введите полки : ')\n",
    "    \n",
    "    shelflist = ''\n",
    "    for key, value in directories.items():\n",
    "        if shelf_number in key:\n",
    "            shelflist = 'Такая полка уже существует. Текущий перечень полок: ' + ', '.join(directories.keys())\n",
    "    \n",
    "    if shelflist == '':\n",
    "        directories[shelf_number] = []\n",
    "        shelflist = 'Полка добавлена. Текущий перечень полок: ' + ', '.join(directories.keys())\n",
    "        \n",
    "    return shelflist"
   ]
  },
  {
   "cell_type": "code",
   "execution_count": 28,
   "metadata": {},
   "outputs": [
    {
     "name": "stdout",
     "output_type": "stream",
     "text": [
      "Введите полки : 4\n"
     ]
    },
    {
     "data": {
      "text/plain": [
       "'Полка добавлена. Текущий перечень полок: 1, 2, 3, 4'"
      ]
     },
     "execution_count": 28,
     "metadata": {},
     "output_type": "execute_result"
    }
   ],
   "source": [
    "add_shelf()"
   ]
  },
  {
   "cell_type": "markdown",
   "metadata": {},
   "source": [
    "## Задание 5"
   ]
  },
  {
   "cell_type": "code",
   "execution_count": 29,
   "metadata": {},
   "outputs": [],
   "source": [
    "def del_shelf():\n",
    "    shelf_number = input('Введите номер полки: ')\n",
    "    \n",
    "    shelflist = ''\n",
    "    for key, value in directories.items():\n",
    "        if shelf_number in key and value == []:\n",
    "            del directories[shelf_number]\n",
    "            shelflist = 'Полка удалена. Текущий перечень полок: ' + ', '.join(directories.keys())\n",
    "            break\n",
    "        elif shelf_number in key and value != []:\n",
    "            shelflist = 'На полке есть документа, удалите их перед удалением полки. Текущий перечень полок: ' + ', '.join(directories.keys())\n",
    "    \n",
    "    if shelflist == '':\n",
    "        shelflist = 'Такой полки не существует. Текущий перечень полок: ' + ', '.join(directories.keys())\n",
    "        \n",
    "    return shelflist"
   ]
  },
  {
   "cell_type": "code",
   "execution_count": 30,
   "metadata": {},
   "outputs": [
    {
     "name": "stdout",
     "output_type": "stream",
     "text": [
      "Введите номер полки: 4\n"
     ]
    },
    {
     "data": {
      "text/plain": [
       "'Полка удалена. Текущий перечень полок: 1, 2, 3'"
      ]
     },
     "execution_count": 30,
     "metadata": {},
     "output_type": "execute_result"
    }
   ],
   "source": [
    "del_shelf()"
   ]
  },
  {
   "cell_type": "code",
   "execution_count": 31,
   "metadata": {},
   "outputs": [],
   "source": [
    "function_dict = {'p': owner, 's': shelf, 'l': info, 'ads': add_shelf, 'ds': del_shelf}"
   ]
  },
  {
   "cell_type": "code",
   "execution_count": 32,
   "metadata": {},
   "outputs": [
    {
     "name": "stdout",
     "output_type": "stream",
     "text": [
      "Введите команду: p\n",
      "Введите номер документа: 11-2\n",
      "Владелец документа: Геннадий Покемонов\n",
      "Введите команду: l\n",
      "№: 2207 876234, тип: passport, владелец: Василий Гупкин, полка хранения: 1\n",
      "№: 11-2, тип: invoice, владелец: Геннадий Покемонов, полка хранения: 1\n",
      "№: 10006, тип: insurance, владелец: Аристарх Павлов, полка хранения: 2\n",
      "None\n",
      "Введите команду: q\n"
     ]
    }
   ],
   "source": [
    "stop = True\n",
    "\n",
    "while stop:\n",
    "    key = input('Введите команду: ')\n",
    "    \n",
    "    if key in function_dict.keys():\n",
    "        print(function_dict[key]())\n",
    "    elif key == 'q':\n",
    "        stop = False"
   ]
  }
 ],
 "metadata": {
  "kernelspec": {
   "display_name": "Python 3",
   "language": "python",
   "name": "python3"
  },
  "language_info": {
   "codemirror_mode": {
    "name": "ipython",
    "version": 3
   },
   "file_extension": ".py",
   "mimetype": "text/x-python",
   "name": "python",
   "nbconvert_exporter": "python",
   "pygments_lexer": "ipython3",
   "version": "3.8.5"
  }
 },
 "nbformat": 4,
 "nbformat_minor": 4
}
