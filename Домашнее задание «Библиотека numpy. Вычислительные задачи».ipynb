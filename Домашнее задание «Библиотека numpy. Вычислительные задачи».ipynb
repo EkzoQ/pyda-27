{
 "cells": [
  {
   "cell_type": "code",
   "execution_count": 1,
   "metadata": {},
   "outputs": [],
   "source": [
    "import numpy as np"
   ]
  },
  {
   "cell_type": "markdown",
   "metadata": {},
   "source": [
    "## Задание 1"
   ]
  },
  {
   "cell_type": "code",
   "execution_count": 2,
   "metadata": {},
   "outputs": [
    {
     "data": {
      "text/plain": [
       "array([9, 8, 7, 6, 5, 4, 3, 2, 1, 0])"
      ]
     },
     "execution_count": 2,
     "metadata": {},
     "output_type": "execute_result"
    }
   ],
   "source": [
    "N = 10\n",
    "\n",
    "arr = np.arange(0, N)[::-1]\n",
    "arr"
   ]
  },
  {
   "cell_type": "markdown",
   "metadata": {},
   "source": [
    "## Задание 2"
   ]
  },
  {
   "cell_type": "code",
   "execution_count": 3,
   "metadata": {},
   "outputs": [
    {
     "name": "stdout",
     "output_type": "stream",
     "text": [
      "Диагональная матрица:\n",
      "[[0 0 0 0 0]\n",
      " [0 1 0 0 0]\n",
      " [0 0 3 0 0]\n",
      " [0 0 0 2 0]\n",
      " [0 0 0 0 4]]\n",
      "Сумму диагональных элементов матрицы: 10\n"
     ]
    }
   ],
   "source": [
    "N = 5\n",
    "\n",
    "diag_ = np.diag(np.random.permutation(N))\n",
    "sum_ = np.trace(diag_)\n",
    "\n",
    "print(f'Диагональная матрица:\\n{diag_}\\nСумму диагональных элементов матрицы: {sum_}')"
   ]
  },
  {
   "cell_type": "markdown",
   "metadata": {},
   "source": [
    "## Задание 3"
   ]
  },
  {
   "cell_type": "code",
   "execution_count": 4,
   "metadata": {},
   "outputs": [
    {
     "name": "stdout",
     "output_type": "stream",
     "text": [
      "x = 0.4666666666666668, y = 3.844444444444444, z = -5.555555555555555\n"
     ]
    }
   ],
   "source": [
    "left = np.array([[4., 2., 1.], [1., 3., 0.], [0., 5., 4.]])\n",
    "right = np.array([4., 12., -3.])\n",
    "solve_ = np.linalg.solve(left, right)\n",
    "\n",
    "print(f'x = {solve_[0]}, y = {solve_[1]}, z = {solve_[2]}')"
   ]
  },
  {
   "cell_type": "markdown",
   "metadata": {},
   "source": [
    "## Задание 4"
   ]
  },
  {
   "cell_type": "code",
   "execution_count": null,
   "metadata": {},
   "outputs": [],
   "source": [
    "users_stats = np.array(\n",
    "    [\n",
    "        [2, 1, 0, 0, 0, 0],\n",
    "        [1, 1, 2, 1, 0, 0],\n",
    "        [2, 0, 1, 0, 0, 0],\n",
    "        [1, 1, 2, 1, 0, 1],\n",
    "        [0, 0, 1, 2, 0, 0],\n",
    "        [0, 0, 0, 0, 0, 5],\n",
    "        [1, 0, 0, 0, 0, 0],\n",
    "        [0, 1, 1, 0, 0, 0],\n",
    "        [0, 0, 0, 1, 1, 3],\n",
    "        [1, 0, 0, 2, 1, 4]\n",
    "    ], \n",
    "    np.int32\n",
    ")\n",
    "\n",
    "next_user_stats = np.array([0, 1, 2, 0, 0, 0])"
   ]
  },
  {
   "cell_type": "code",
   "execution_count": 8,
   "metadata": {},
   "outputs": [
    {
     "name": "stdout",
     "output_type": "stream",
     "text": [
      "Самый похожий пользователь (ID): 8. Косинусное сходство между векторами 0.9486832980505138\n"
     ]
    }
   ],
   "source": [
    "next_user_length = np.linalg.norm(next_user_stats)\n",
    "\n",
    "cosines = []\n",
    "for user_stats in users_stats:\n",
    "    user_length = np.linalg.norm(user_stats)\n",
    "    cosine = np.dot(user_stats, next_user_stats) / (user_length * next_user_length)\n",
    "    cosines.append(cosine)\n",
    "    \n",
    "print(f'Самый похожий пользователь (ID): {cosines.index(max(cosines))+1}. Косинусное сходство между векторами {max(cosines)}')"
   ]
  },
  {
   "cell_type": "code",
   "execution_count": null,
   "metadata": {},
   "outputs": [],
   "source": []
  }
 ],
 "metadata": {
  "kernelspec": {
   "display_name": "Python 3",
   "language": "python",
   "name": "python3"
  },
  "language_info": {
   "codemirror_mode": {
    "name": "ipython",
    "version": 3
   },
   "file_extension": ".py",
   "mimetype": "text/x-python",
   "name": "python",
   "nbconvert_exporter": "python",
   "pygments_lexer": "ipython3",
   "version": "3.8.5"
  }
 },
 "nbformat": 4,
 "nbformat_minor": 4
}
